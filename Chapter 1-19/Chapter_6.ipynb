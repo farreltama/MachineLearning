{
 "cells": [
  {
   "cell_type": "markdown",
   "id": "8e1c663b",
   "metadata": {},
   "source": [
    "# Chapter 6: Decision Trees\n",
    "\n",
    "Notebook ini merupakan hasil reproduksi dan penjelasan teori dari **Bab 6 - Decision Trees** dari buku *Hands-On Machine Learning with Scikit-Learn, Keras, and TensorFlow (2nd Edition)* oleh Aurélien Géron.\n",
    "\n",
    "📌 Fokus bab ini adalah mempelajari cara kerja Decision Tree Classifier, bagaimana ia melakukan prediksi, menghitung probabilitas, serta regularisasi dan kelemahannya.\n",
    "\n",
    "---\n"
   ]
  },
  {
   "cell_type": "markdown",
   "id": "18c883a5",
   "metadata": {},
   "source": [
    "## Ringkasan Teori Bab 6: Decision Trees\n",
    "\n",
    "### 1. Melatih dan Memvisualisasikan Decision Tree\n",
    "Decision Tree mempartisi ruang fitur secara rekursif berdasarkan threshold optimal dari suatu fitur.  \n",
    "Kita dapat melatih `DecisionTreeClassifier` pada dataset seperti iris dan memvisualisasikan hasilnya.\n",
    "\n",
    "---\n",
    "\n",
    "### 2. Membuat Prediksi dengan Decision Tree\n",
    "Proses prediksi dilakukan dengan **navigasi dari root node ke leaf node**, berdasarkan jawaban pertanyaan threshold.  \n",
    "Fitur node:\n",
    "\n",
    "- **samples**: jumlah instance pelatihan di node\n",
    "- **value**: jumlah instance dari setiap kelas\n",
    "- **gini**: impurity dari node\n",
    "\n",
    "#### Rumus Gini Impurity:\n",
    "\\[\n",
    "G_i = 1 - \\sum_{k=1}^{n} p_{i,k}^2\n",
    "\\]\n",
    "di mana $p_{i,k}$ adalah proporsi kelas $k$ di node ke-$i$.\n",
    "\n",
    "---\n",
    "\n",
    "### 3. Interpretasi Model: White Box\n",
    "Decision Tree dianggap sebagai **white-box model** karena mudah dipahami secara visual dan logis, berbeda dengan neural networks atau Random Forests (black-box).\n",
    "\n",
    "---\n",
    "\n",
    "### 4. Estimasi Probabilitas Kelas\n",
    "Decision Tree dapat mengestimasi probabilitas sebuah instance menjadi kelas tertentu berdasarkan **rasio kelas di leaf node**.\n",
    "\n",
    "---\n",
    "\n",
    "### 5. Algoritma Pelatihan: CART\n",
    "Scikit-Learn menggunakan algoritma CART (Classification and Regression Tree):\n",
    "\n",
    "- Membagi set pelatihan menjadi dua subset dengan threshold terbaik.\n",
    "- Proses dilakukan **secara greedy**, hanya fokus pada pemisahan optimal di satu titik waktu.\n",
    "- CART tidak menjamin solusi global optimal karena masalah ini adalah **NP-Complete**.\n",
    "\n",
    "---\n",
    "\n",
    "### 6. Hyperparameter Regularisasi\n",
    "Jika Decision Tree dibiarkan tanpa batas, ia cenderung **overfitting**.  \n",
    "Oleh karena itu, kita perlu melakukan regularisasi dengan membatasi parameter seperti:\n",
    "\n",
    "- `max_depth`\n",
    "- `min_samples_split`\n",
    "- `min_samples_leaf`\n",
    "- `max_leaf_nodes`\n",
    "- `max_features`\n",
    "\n",
    "---\n",
    "\n",
    "### 7. Decision Tree untuk Regresi\n",
    "Decision Tree juga dapat digunakan untuk **regresi**.  \n",
    "Alih-alih memprediksi kelas, ia memprediksi **rata-rata nilai target** dari leaf node.\n",
    "\n",
    "Untuk regresi, CART meminimalkan **MSE** alih-alih impurity.\n",
    "\n",
    "---\n",
    "\n",
    "### 8. Kelemahan Decision Trees\n",
    "- **Instabilitas**: perubahan kecil pada data bisa mengubah struktur pohon drastis.\n",
    "- **Kepekaan terhadap rotasi data**\n",
    "- **Rentan overfitting** jika tidak diregularisasi.\n",
    "\n",
    "Solusi: gunakan **Random Forest** atau ensemble learning untuk mengurangi kelemahan ini.\n",
    "\n",
    "---\n"
   ]
  },
  {
   "cell_type": "markdown",
   "id": "681330d0",
   "metadata": {},
   "source": [
    "## Implementasi Decision Tree Classifier\n",
    "\n",
    "Kita akan menggunakan dataset iris dan melatih `DecisionTreeClassifier`, lalu memvisualisasikannya.\n"
   ]
  },
  {
   "cell_type": "code",
   "execution_count": null,
   "id": "4f3be00e",
   "metadata": {},
   "outputs": [],
   "source": [
    "from sklearn.datasets import load_iris\n",
    "from sklearn.tree import DecisionTreeClassifier, plot_tree\n",
    "import matplotlib.pyplot as plt\n",
    "\n",
    "iris = load_iris()\n",
    "X, y = iris.data[:, 2:], iris.target  # gunakan petal length & width saja\n",
    "\n",
    "tree_clf = DecisionTreeClassifier(max_depth=3, random_state=42)\n",
    "tree_clf.fit(X, y)"
   ]
  },
  {
   "cell_type": "code",
   "execution_count": null,
   "id": "dc83ea50",
   "metadata": {},
   "outputs": [],
   "source": [
    "plt.figure(figsize=(12, 8))\n",
    "plot_tree(tree_clf, feature_names=iris.feature_names[2:], class_names=iris.target_names, filled=True)\n",
    "plt.title(\"Decision Tree on Iris Dataset\")\n",
    "plt.show()"
   ]
  },
  {
   "cell_type": "markdown",
   "id": "ae157a04",
   "metadata": {},
   "source": [
    "## Contoh Prediksi Probabilitas\n",
    "\n",
    "Menampilkan probabilitas prediksi untuk sebuah sampel:\n"
   ]
  },
  {
   "cell_type": "code",
   "execution_count": null,
   "id": "2f0d6143",
   "metadata": {},
   "outputs": [],
   "source": [
    "sample = [[5.0, 1.5]]  # petal length=5.0, width=1.5\n",
    "print(\"Predicted class:\", tree_clf.predict(sample))\n",
    "print(\"Class probabilities:\", tree_clf.predict_proba(sample))"
   ]
  },
  {
   "cell_type": "markdown",
   "id": "de7edf44",
   "metadata": {},
   "source": [
    "## Decision Tree untuk Regresi\n",
    "\n",
    "Decision Tree juga bisa digunakan untuk regresi. Kita akan coba dengan fungsi sinus.\n"
   ]
  },
  {
   "cell_type": "code",
   "execution_count": null,
   "id": "45ec45ca",
   "metadata": {},
   "outputs": [],
   "source": [
    "from sklearn.tree import DecisionTreeRegressor\n",
    "import numpy as np\n",
    "\n",
    "np.random.seed(42)\n",
    "X_r = np.sort(np.random.rand(100, 1) * 5, axis=0)\n",
    "y_r = np.sin(X_r).ravel() + np.random.randn(100) * 0.1\n",
    "\n",
    "tree_reg = DecisionTreeRegressor(max_depth=3)\n",
    "tree_reg.fit(X_r, y_r)"
   ]
  },
  {
   "cell_type": "code",
   "execution_count": null,
   "id": "b23ef2e5",
   "metadata": {},
   "outputs": [],
   "source": [
    "X_test = np.linspace(0, 5, 500).reshape(-1, 1)\n",
    "y_pred = tree_reg.predict(X_test)\n",
    "\n",
    "plt.figure(figsize=(10, 5))\n",
    "plt.plot(X_r, y_r, \"b.\", label=\"Training samples\")\n",
    "plt.plot(X_test, y_pred, \"r-\", label=\"Tree predictions\")\n",
    "plt.title(\"Decision Tree Regression\")\n",
    "plt.legend()\n",
    "plt.grid(True)\n",
    "plt.show()"
   ]
  }
 ],
 "metadata": {},
 "nbformat": 4,
 "nbformat_minor": 5
}
