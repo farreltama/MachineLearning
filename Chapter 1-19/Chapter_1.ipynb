{
  "nbformat": 4,
  "nbformat_minor": 0,
  "metadata": {
    "colab": {
      "provenance": []
    },
    "kernelspec": {
      "name": "python3",
      "display_name": "Python 3"
    },
    "language_info": {
      "name": "python"
    }
  },
  "cells": [
    {
      "cell_type": "markdown",
      "source": [
        "# Chapter 1: The Machine Learning Landscape\n",
        "\n",
        "## Apa itu Machine Learning (ML)?\n",
        "\n",
        "Machine Learning adalah ilmu yang memprogram komputer agar dapat belajar dari data tanpa diprogram secara eksplisit.\n",
        "\n",
        "> \"A computer program is said to learn from experience E with respect to some task T and some performance measure P if its performance at task T, as measured by P, improves with experience E.\" – Tom Mitchell (1997)\n",
        "\n",
        "Contoh: Sistem filter spam yang belajar dari email-email sebelumnya untuk mengenali email spam baru.\n",
        "\n",
        "---\n",
        "\n",
        "## Mengapa Menggunakan Machine Learning?\n",
        "\n",
        "ML digunakan ketika:\n",
        "- Masalah terlalu kompleks untuk dipecahkan secara manual (aturan terlalu banyak atau tidak pasti).\n",
        "- Lingkungan terus berubah dan sistem harus beradaptasi.\n",
        "- Ingin mengekstraksi pola atau insight dari data yang sangat besar (data mining).\n",
        "\n",
        "---\n",
        "\n",
        "## Jenis-Jenis Sistem Machine Learning\n",
        "\n",
        "### 1. Berdasarkan Tingkat Supervisi\n",
        "- **Supervised Learning**: belajar dari data berlabel (contoh: klasifikasi & regresi)\n",
        "- **Unsupervised Learning**: belajar dari data tidak berlabel (contoh: clustering, anomaly detection)\n",
        "- **Semisupervised Learning**: sebagian data berlabel, sebagian besar tidak (contoh: face recognition)\n",
        "- **Reinforcement Learning**: agent belajar dari trial & error berdasarkan reward/penalty\n",
        "\n",
        "### 2. Berdasarkan Cara Belajar\n",
        "- **Batch Learning**: belajar sekaligus dari seluruh data (offline)\n",
        "- **Online Learning**: belajar bertahap dari data stream secara kontinu\n",
        "\n",
        "### 3. Berdasarkan Pendekatan Generalisasi\n",
        "- **Instance-Based Learning**: menyimpan dan membandingkan data instance (misal: K-NN)\n",
        "- **Model-Based Learning**: membangun model prediktif dari data (misal: Linear Regression)\n",
        "\n",
        "---\n",
        "\n",
        "## Tantangan dalam Machine Learning\n",
        "\n",
        "### Masalah Data:\n",
        "- Data pelatihan tidak cukup\n",
        "- Data tidak representatif\n",
        "- Kualitas data buruk (banyak noise, outlier)\n",
        "- Fitur yang tidak relevan → butuh feature engineering\n",
        "\n",
        "### Masalah Model:\n",
        "- **Overfitting**: terlalu kompleks, bagus di train tapi buruk di test\n",
        "- **Underfitting**: terlalu sederhana, gagal menangkap pola\n",
        "\n",
        "---\n",
        "\n",
        "## Pengujian dan Validasi Model\n",
        "\n",
        "- **Training Set**: untuk melatih model\n",
        "- **Validation Set**: untuk menyetel hyperparameter\n",
        "- **Test Set**: untuk mengukur performa akhir (generalization)\n",
        "\n",
        "---\n",
        "\n",
        "## Ringkasan\n",
        "\n",
        "Bab ini menjelaskan:\n",
        "- Definisi dan tujuan ML\n",
        "- Klasifikasi sistem ML\n",
        "- Tantangan umum dan konsep overfit/underfit\n",
        "- Proses evaluasi model\n"
      ],
      "metadata": {
        "id": "xqIGh0JgBqxc"
      }
    }
  ]
}