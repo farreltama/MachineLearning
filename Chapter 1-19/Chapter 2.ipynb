{
 "cells": [
  {
   "cell_type": "markdown",
   "id": "aff72329",
   "metadata": {},
   "source": [
    "# Chapter 2: Proyek Machine Learning dari Awal sampai Akhir\n",
    "\n",
    "Dalam proyek ini, kita akan membangun model regresi untuk memprediksi harga rumah di California berdasarkan fitur-fitur demografis dan geografis. Dataset diambil dari sumber resmi buku dan digunakan untuk mendemonstrasikan tahapan lengkap proyek Machine Learning.\n",
    "\n",
    "---"
   ]
  },
  {
   "cell_type": "code",
   "execution_count": null,
   "id": "af0fdec9",
   "metadata": {},
   "outputs": [],
   "source": [
    "import os\n",
    "import urllib.request\n",
    "import tarfile\n",
    "from pathlib import Path\n",
    "\n",
    "def unduh_dataset(url, simpan_di):\n",
    "    Path(simpan_di).mkdir(parents=True, exist_ok=True)\n",
    "    path_file = os.path.join(simpan_di, \"housing.tgz\")\n",
    "    urllib.request.urlretrieve(url, path_file)\n",
    "    with tarfile.open(path_file) as arsip:\n",
    "        arsip.extractall(path=simpan_di)\n",
    "\n",
    "DATASET_URL = \"https://raw.githubusercontent.com/ageron/handson-ml2/master/datasets/housing/housing.tgz\"\n",
    "DATASET_FOLDER = os.path.join(\"data\", \"california_housing\")\n",
    "\n",
    "unduh_dataset(DATASET_URL, DATASET_FOLDER)"
   ]
  },
  {
   "cell_type": "code",
   "execution_count": null,
   "id": "db1ec2a0",
   "metadata": {},
   "outputs": [],
   "source": [
    "import pandas as pd\n",
    "\n",
    "def baca_dataset(folder_path):\n",
    "    file_csv = os.path.join(folder_path, \"housing.csv\")\n",
    "    return pd.read_csv(file_csv)\n",
    "\n",
    "df_housing = baca_dataset(DATASET_FOLDER)\n",
    "df_housing.head()"
   ]
  },
  {
   "cell_type": "markdown",
   "id": "78c692cc",
   "metadata": {},
   "source": [
    "## Eksplorasi Data dan Visualisasi\n",
    "\n",
    "Sebelum membangun model, penting untuk memahami struktur data. Kita akan:\n",
    "- Melihat informasi umum dataset\n",
    "- Mengecek distribusi nilai\n",
    "- Membuat histogram dan peta lokasi\n"
   ]
  },
  {
   "cell_type": "code",
   "execution_count": null,
   "id": "2e76a092",
   "metadata": {},
   "outputs": [],
   "source": [
    "df_housing.info()"
   ]
  },
  {
   "cell_type": "code",
   "execution_count": null,
   "id": "664400e9",
   "metadata": {},
   "outputs": [],
   "source": [
    "df_housing.describe()"
   ]
  },
  {
   "cell_type": "code",
   "execution_count": null,
   "id": "a8b8ccde",
   "metadata": {},
   "outputs": [],
   "source": [
    "df_housing['ocean_proximity'].value_counts()"
   ]
  },
  {
   "cell_type": "code",
   "execution_count": null,
   "id": "a9db50df",
   "metadata": {},
   "outputs": [],
   "source": [
    "import matplotlib.pyplot as plt\n",
    "\n",
    "df_housing.hist(bins=50, figsize=(20,15))\n",
    "plt.show()"
   ]
  },
  {
   "cell_type": "code",
   "execution_count": null,
   "id": "27fad79c",
   "metadata": {},
   "outputs": [],
   "source": [
    "df_housing.plot(kind=\"scatter\", x=\"longitude\", y=\"latitude\", alpha=0.4,\n",
    "                     s=df_housing[\"population\"]/100, label=\"population\", figsize=(10,7),\n",
    "                     c=\"median_house_value\", cmap=\"jet\", colorbar=True)\n",
    "plt.legend()\n",
    "plt.show()"
   ]
  }
 ],
 "metadata": {},
 "nbformat": 4,
 "nbformat_minor": 5
}
