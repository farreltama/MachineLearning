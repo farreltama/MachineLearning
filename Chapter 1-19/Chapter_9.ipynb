{
 "cells": [
  {
   "cell_type": "markdown",
   "id": "fe1db15a",
   "metadata": {},
   "source": [
    "# Chapter 9: Unsupervised Learning Techniques\n",
    "\n",
    "Notebook ini merupakan hasil reproduksi dan penjelasan teori dari **Bab 9 - Unsupervised Learning Techniques** dari buku *Hands-On Machine Learning with Scikit-Learn, Keras, and TensorFlow (2nd Edition)* oleh Aurélien Géron.\n",
    "\n",
    "📌 Bab ini membahas teknik-teknik pembelajaran tanpa label, seperti clustering, DBSCAN, dan dimensionality reduction untuk eksplorasi data.\n",
    "\n",
    "---\n"
   ]
  },
  {
   "cell_type": "markdown",
   "id": "b42166c9",
   "metadata": {},
   "source": [
    "## Ringkasan Teori Bab 9: Unsupervised Learning Techniques\n",
    "\n",
    "### 1. Unsupervised Learning\n",
    "\n",
    "Berbeda dengan supervised learning, di sini kita **tidak memiliki label**. Tujuannya adalah mengidentifikasi struktur, pola, atau grup dalam data.\n",
    "\n",
    "Contoh aplikasi:\n",
    "- Clustering pelanggan\n",
    "- Deteksi anomali\n",
    "- Segmentasi gambar\n",
    "- Reduksi dimensi\n",
    "\n",
    "---\n",
    "\n",
    "### 2. Clustering\n",
    "\n",
    "Clustering adalah proses pengelompokan instance berdasarkan kemiripan.\n",
    "\n",
    "#### KMeans Clustering\n",
    "- Algoritma iteratif yang meminimalkan jarak antar instance dan centroid cluster.\n",
    "- Diperlukan: jumlah cluster ($k$)\n",
    "- Langkah:\n",
    "  1. Inisialisasi $k$ centroid\n",
    "  2. Assign instance ke centroid terdekat\n",
    "  3. Update centroid\n",
    "  4. Ulangi hingga konvergen\n",
    "\n",
    "```python\n",
    "from sklearn.cluster import KMeans\n",
    "```\n",
    "\n",
    "---\n",
    "\n",
    "### 3. Evaluasi Clustering\n",
    "\n",
    "Beberapa metrik evaluasi:\n",
    "- **Inertia**: total jarak kuadrat dari setiap titik ke centroidnya\n",
    "- **Silhouette Score**: mengukur seberapa baik objek dikelompokkan\n",
    "\n",
    "---\n",
    "\n",
    "### 4. DBSCAN\n",
    "\n",
    "Density-Based Spatial Clustering of Applications with Noise.\n",
    "\n",
    "- Tidak memerlukan jumlah cluster sebelumnya\n",
    "- Menemukan cluster berdasarkan **kepadatan lokal**\n",
    "- Dapat mendeteksi outlier\n",
    "- Parameter penting:\n",
    "  - `eps`: radius maksimum\n",
    "  - `min_samples`: minimal tetangga untuk membentuk cluster\n",
    "\n",
    "```python\n",
    "from sklearn.cluster import DBSCAN\n",
    "```\n",
    "\n",
    "---\n",
    "\n",
    "### 5. Perbandingan KMeans vs. DBSCAN\n",
    "\n",
    "| Aspek | KMeans | DBSCAN |\n",
    "|-------|--------|--------|\n",
    "| Jumlah cluster | Harus ditentukan | Tidak perlu |\n",
    "| Bentuk cluster | Cenderung bulat | Fleksibel |\n",
    "| Outlier | Tidak ditangani | Bisa mendeteksi |\n",
    "| Kecepatan | Cepat | Lebih lambat pada data besar |\n",
    "\n",
    "---\n",
    "\n",
    "### 6. Clustering + Dimensionality Reduction\n",
    "\n",
    "PCA atau t-SNE dapat digunakan untuk **visualisasi** hasil clustering dalam 2D atau 3D.\n",
    "\n",
    "---\n",
    "\n",
    "### 7. Teknik Lain:\n",
    "- Gaussian Mixture Model (GMM)\n",
    "- Agglomerative Clustering\n",
    "- Spectral Clustering\n",
    "\n",
    "Masing-masing memiliki pendekatan unik untuk membentuk dan mendeteksi cluster.\n",
    "\n",
    "---\n"
   ]
  },
  {
   "cell_type": "markdown",
   "id": "91318703",
   "metadata": {},
   "source": [
    "## Implementasi KMeans Clustering\n",
    "\n",
    "Gunakan dataset `make_blobs` untuk membentuk cluster, lalu visualisasikan hasilnya.\n"
   ]
  },
  {
   "cell_type": "code",
   "execution_count": null,
   "id": "d953cfdd",
   "metadata": {},
   "outputs": [],
   "source": [
    "from sklearn.datasets import make_blobs\n",
    "from sklearn.cluster import KMeans\n",
    "import matplotlib.pyplot as plt\n",
    "\n",
    "X_blob, _ = make_blobs(n_samples=300, centers=4, cluster_std=0.60, random_state=0)\n",
    "kmeans = KMeans(n_clusters=4, random_state=42)\n",
    "y_kmeans = kmeans.fit_predict(X_blob)\n",
    "\n",
    "plt.figure(figsize=(8, 6))\n",
    "plt.scatter(X_blob[:, 0], X_blob[:, 1], c=y_kmeans, s=50, cmap='viridis')\n",
    "plt.scatter(kmeans.cluster_centers_[:, 0], kmeans.cluster_centers_[:, 1], c='red', marker='X', s=200, label='Centroids')\n",
    "plt.title(\"KMeans Clustering Result\")\n",
    "plt.legend()\n",
    "plt.grid(True)\n",
    "plt.show()"
   ]
  },
  {
   "cell_type": "markdown",
   "id": "42a5a815",
   "metadata": {},
   "source": [
    "### Penjelasan Visualisasi KMeans\n",
    "- Titik-titik berwarna adalah data yang telah diklasifikasikan oleh KMeans ke dalam 4 cluster.\n",
    "- Titik merah berbentuk 'X' adalah centroid dari masing-masing cluster.\n",
    "- KMeans bekerja dengan mencoba meminimalkan jarak total ke centroid terdekat.\n",
    "\n",
    "---\n"
   ]
  },
  {
   "cell_type": "markdown",
   "id": "205f3fdc",
   "metadata": {},
   "source": [
    "## Evaluasi KMeans: Inertia dan Silhouette Score"
   ]
  },
  {
   "cell_type": "code",
   "execution_count": null,
   "id": "4d9ad039",
   "metadata": {},
   "outputs": [],
   "source": [
    "from sklearn.metrics import silhouette_score\n",
    "\n",
    "print(\"Inertia:\", kmeans.inertia_)\n",
    "print(\"Silhouette Score:\", silhouette_score(X_blob, y_kmeans))"
   ]
  },
  {
   "cell_type": "markdown",
   "id": "4cbe8b5e",
   "metadata": {},
   "source": [
    "## Implementasi DBSCAN\n",
    "\n",
    "Clustering berbasis kepadatan menggunakan `DBSCAN`.\n"
   ]
  },
  {
   "cell_type": "code",
   "execution_count": null,
   "id": "b1ccc205",
   "metadata": {},
   "outputs": [],
   "source": [
    "from sklearn.cluster import DBSCAN\n",
    "import numpy as np\n",
    "\n",
    "dbscan = DBSCAN(eps=0.3, min_samples=5)\n",
    "y_db = dbscan.fit_predict(X_blob)\n",
    "\n",
    "plt.figure(figsize=(8, 6))\n",
    "plt.scatter(X_blob[:, 0], X_blob[:, 1], c=y_db, cmap=\"plasma\", s=50)\n",
    "plt.title(\"DBSCAN Clustering Result\")\n",
    "plt.grid(True)\n",
    "plt.show()"
   ]
  },
  {
   "cell_type": "markdown",
   "id": "8e5f74b5",
   "metadata": {},
   "source": [
    "### Penjelasan Visualisasi DBSCAN\n",
    "- DBSCAN tidak memerlukan jumlah cluster.\n",
    "- Warna berbeda menunjukkan cluster yang ditemukan.\n",
    "- Nilai `-1` (biasanya hitam) berarti data tersebut dianggap outlier.\n",
    "- DBSCAN berguna saat cluster berbentuk tidak teratur dan ingin menghindari asumsi jumlah cluster.\n",
    "\n",
    "---\n"
   ]
  },
  {
   "cell_type": "markdown",
   "id": "2e946b04",
   "metadata": {},
   "source": [
    "## Clustering + PCA untuk Visualisasi\n",
    "\n",
    "PCA dapat membantu menyederhanakan data untuk keperluan visualisasi.\n"
   ]
  },
  {
   "cell_type": "code",
   "execution_count": null,
   "id": "ea632ec2",
   "metadata": {},
   "outputs": [],
   "source": [
    "from sklearn.decomposition import PCA\n",
    "\n",
    "pca_2d = PCA(n_components=2)\n",
    "X_pca = pca_2d.fit_transform(X_blob)\n",
    "\n",
    "plt.figure(figsize=(8, 6))\n",
    "plt.scatter(X_pca[:, 0], X_pca[:, 1], c=y_kmeans, cmap=\"viridis\", s=50)\n",
    "plt.title(\"KMeans Cluster Visualized in 2D PCA Space\")\n",
    "plt.grid(True)\n",
    "plt.show()"
   ]
  },
  {
   "cell_type": "markdown",
   "id": "ad2913a7",
   "metadata": {},
   "source": [
    "### Penjelasan Visualisasi PCA + Clustering\n",
    "- PCA mengurangi data berdimensi tinggi ke 2D agar bisa divisualisasikan.\n",
    "- Kita tetap bisa mempertahankan informasi cluster dari KMeans atau DBSCAN.\n",
    "\n",
    "---\n"
   ]
  }
 ],
 "metadata": {},
 "nbformat": 4,
 "nbformat_minor": 5
}
