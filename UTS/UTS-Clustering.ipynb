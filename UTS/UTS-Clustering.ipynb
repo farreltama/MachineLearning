{
 "cells": [
  {
   "cell_type": "markdown",
   "id": "56d4475a",
   "metadata": {},
   "source": [
    "## Cleaning Data\n"
   ]
  },
  {
   "cell_type": "code",
   "execution_count": 1,
   "id": "e31ea933",
   "metadata": {},
   "outputs": [
    {
     "name": "stdout",
     "output_type": "stream",
     "text": [
      "Data Awal (5 baris pertama):\n"
     ]
    },
    {
     "data": {
      "application/vnd.microsoft.datawrangler.viewer.v0+json": {
       "columns": [
        {
         "name": "index",
         "rawType": "int64",
         "type": "integer"
        },
        {
         "name": "InvoiceNo",
         "rawType": "object",
         "type": "string"
        },
        {
         "name": "StockCode",
         "rawType": "object",
         "type": "string"
        },
        {
         "name": "Description",
         "rawType": "object",
         "type": "string"
        },
        {
         "name": "Quantity",
         "rawType": "int64",
         "type": "integer"
        },
        {
         "name": "InvoiceDate",
         "rawType": "object",
         "type": "string"
        },
        {
         "name": "UnitPrice",
         "rawType": "float64",
         "type": "float"
        },
        {
         "name": "CustomerID",
         "rawType": "float64",
         "type": "float"
        },
        {
         "name": "Country",
         "rawType": "object",
         "type": "string"
        }
       ],
       "conversionMethod": "pd.DataFrame",
       "ref": "f0771ab2-1b3b-43ae-a504-10480a66e570",
       "rows": [
        [
         "0",
         "536365",
         "85123A",
         "WHITE HANGING HEART T-LIGHT HOLDER",
         "6",
         "12/1/2010 8:26",
         "2.55",
         "17850.0",
         "United Kingdom"
        ],
        [
         "1",
         "536365",
         "71053",
         "WHITE METAL LANTERN",
         "6",
         "12/1/2010 8:26",
         "3.39",
         "17850.0",
         "United Kingdom"
        ],
        [
         "2",
         "536365",
         "84406B",
         "CREAM CUPID HEARTS COAT HANGER",
         "8",
         "12/1/2010 8:26",
         "2.75",
         "17850.0",
         "United Kingdom"
        ],
        [
         "3",
         "536365",
         "84029G",
         "KNITTED UNION FLAG HOT WATER BOTTLE",
         "6",
         "12/1/2010 8:26",
         "3.39",
         "17850.0",
         "United Kingdom"
        ],
        [
         "4",
         "536365",
         "84029E",
         "RED WOOLLY HOTTIE WHITE HEART.",
         "6",
         "12/1/2010 8:26",
         "3.39",
         "17850.0",
         "United Kingdom"
        ]
       ],
       "shape": {
        "columns": 8,
        "rows": 5
       }
      },
      "text/html": [
       "<div>\n",
       "<style scoped>\n",
       "    .dataframe tbody tr th:only-of-type {\n",
       "        vertical-align: middle;\n",
       "    }\n",
       "\n",
       "    .dataframe tbody tr th {\n",
       "        vertical-align: top;\n",
       "    }\n",
       "\n",
       "    .dataframe thead th {\n",
       "        text-align: right;\n",
       "    }\n",
       "</style>\n",
       "<table border=\"1\" class=\"dataframe\">\n",
       "  <thead>\n",
       "    <tr style=\"text-align: right;\">\n",
       "      <th></th>\n",
       "      <th>InvoiceNo</th>\n",
       "      <th>StockCode</th>\n",
       "      <th>Description</th>\n",
       "      <th>Quantity</th>\n",
       "      <th>InvoiceDate</th>\n",
       "      <th>UnitPrice</th>\n",
       "      <th>CustomerID</th>\n",
       "      <th>Country</th>\n",
       "    </tr>\n",
       "  </thead>\n",
       "  <tbody>\n",
       "    <tr>\n",
       "      <th>0</th>\n",
       "      <td>536365</td>\n",
       "      <td>85123A</td>\n",
       "      <td>WHITE HANGING HEART T-LIGHT HOLDER</td>\n",
       "      <td>6</td>\n",
       "      <td>12/1/2010 8:26</td>\n",
       "      <td>2.55</td>\n",
       "      <td>17850.0</td>\n",
       "      <td>United Kingdom</td>\n",
       "    </tr>\n",
       "    <tr>\n",
       "      <th>1</th>\n",
       "      <td>536365</td>\n",
       "      <td>71053</td>\n",
       "      <td>WHITE METAL LANTERN</td>\n",
       "      <td>6</td>\n",
       "      <td>12/1/2010 8:26</td>\n",
       "      <td>3.39</td>\n",
       "      <td>17850.0</td>\n",
       "      <td>United Kingdom</td>\n",
       "    </tr>\n",
       "    <tr>\n",
       "      <th>2</th>\n",
       "      <td>536365</td>\n",
       "      <td>84406B</td>\n",
       "      <td>CREAM CUPID HEARTS COAT HANGER</td>\n",
       "      <td>8</td>\n",
       "      <td>12/1/2010 8:26</td>\n",
       "      <td>2.75</td>\n",
       "      <td>17850.0</td>\n",
       "      <td>United Kingdom</td>\n",
       "    </tr>\n",
       "    <tr>\n",
       "      <th>3</th>\n",
       "      <td>536365</td>\n",
       "      <td>84029G</td>\n",
       "      <td>KNITTED UNION FLAG HOT WATER BOTTLE</td>\n",
       "      <td>6</td>\n",
       "      <td>12/1/2010 8:26</td>\n",
       "      <td>3.39</td>\n",
       "      <td>17850.0</td>\n",
       "      <td>United Kingdom</td>\n",
       "    </tr>\n",
       "    <tr>\n",
       "      <th>4</th>\n",
       "      <td>536365</td>\n",
       "      <td>84029E</td>\n",
       "      <td>RED WOOLLY HOTTIE WHITE HEART.</td>\n",
       "      <td>6</td>\n",
       "      <td>12/1/2010 8:26</td>\n",
       "      <td>3.39</td>\n",
       "      <td>17850.0</td>\n",
       "      <td>United Kingdom</td>\n",
       "    </tr>\n",
       "  </tbody>\n",
       "</table>\n",
       "</div>"
      ],
      "text/plain": [
       "  InvoiceNo StockCode                          Description  Quantity  \\\n",
       "0    536365    85123A   WHITE HANGING HEART T-LIGHT HOLDER         6   \n",
       "1    536365     71053                  WHITE METAL LANTERN         6   \n",
       "2    536365    84406B       CREAM CUPID HEARTS COAT HANGER         8   \n",
       "3    536365    84029G  KNITTED UNION FLAG HOT WATER BOTTLE         6   \n",
       "4    536365    84029E       RED WOOLLY HOTTIE WHITE HEART.         6   \n",
       "\n",
       "      InvoiceDate  UnitPrice  CustomerID         Country  \n",
       "0  12/1/2010 8:26       2.55     17850.0  United Kingdom  \n",
       "1  12/1/2010 8:26       3.39     17850.0  United Kingdom  \n",
       "2  12/1/2010 8:26       2.75     17850.0  United Kingdom  \n",
       "3  12/1/2010 8:26       3.39     17850.0  United Kingdom  \n",
       "4  12/1/2010 8:26       3.39     17850.0  United Kingdom  "
      ]
     },
     "metadata": {},
     "output_type": "display_data"
    },
    {
     "name": "stderr",
     "output_type": "stream",
     "text": [
      "C:\\Users\\User\\AppData\\Local\\Temp\\ipykernel_14192\\1851098203.py:13: SettingWithCopyWarning: \n",
      "A value is trying to be set on a copy of a slice from a DataFrame\n",
      "\n",
      "See the caveats in the documentation: https://pandas.pydata.org/pandas-docs/stable/user_guide/indexing.html#returning-a-view-versus-a-copy\n",
      "  data_cleaned['Description'].fillna('Unknown', inplace=True)\n"
     ]
    },
    {
     "name": "stdout",
     "output_type": "stream",
     "text": [
      "\n",
      "Data Setelah Cleaning (5 baris pertama):\n"
     ]
    },
    {
     "data": {
      "application/vnd.microsoft.datawrangler.viewer.v0+json": {
       "columns": [
        {
         "name": "index",
         "rawType": "int64",
         "type": "integer"
        },
        {
         "name": "InvoiceNo",
         "rawType": "object",
         "type": "string"
        },
        {
         "name": "StockCode",
         "rawType": "object",
         "type": "string"
        },
        {
         "name": "Description",
         "rawType": "object",
         "type": "string"
        },
        {
         "name": "Quantity",
         "rawType": "int64",
         "type": "integer"
        },
        {
         "name": "InvoiceDate",
         "rawType": "datetime64[ns]",
         "type": "datetime"
        },
        {
         "name": "UnitPrice",
         "rawType": "float64",
         "type": "float"
        },
        {
         "name": "CustomerID",
         "rawType": "float64",
         "type": "float"
        },
        {
         "name": "Country",
         "rawType": "object",
         "type": "string"
        }
       ],
       "conversionMethod": "pd.DataFrame",
       "ref": "cca67060-c1df-4ac7-ae7e-926ca66170d0",
       "rows": [
        [
         "0",
         "536365",
         "85123A",
         "WHITE HANGING HEART T-LIGHT HOLDER",
         "6",
         "2010-12-01 08:26:00",
         "2.55",
         "17850.0",
         "United Kingdom"
        ],
        [
         "1",
         "536365",
         "71053",
         "WHITE METAL LANTERN",
         "6",
         "2010-12-01 08:26:00",
         "3.39",
         "17850.0",
         "United Kingdom"
        ],
        [
         "2",
         "536365",
         "84406B",
         "CREAM CUPID HEARTS COAT HANGER",
         "8",
         "2010-12-01 08:26:00",
         "2.75",
         "17850.0",
         "United Kingdom"
        ],
        [
         "3",
         "536365",
         "84029G",
         "KNITTED UNION FLAG HOT WATER BOTTLE",
         "6",
         "2010-12-01 08:26:00",
         "3.39",
         "17850.0",
         "United Kingdom"
        ],
        [
         "4",
         "536365",
         "84029E",
         "RED WOOLLY HOTTIE WHITE HEART.",
         "6",
         "2010-12-01 08:26:00",
         "3.39",
         "17850.0",
         "United Kingdom"
        ]
       ],
       "shape": {
        "columns": 8,
        "rows": 5
       }
      },
      "text/html": [
       "<div>\n",
       "<style scoped>\n",
       "    .dataframe tbody tr th:only-of-type {\n",
       "        vertical-align: middle;\n",
       "    }\n",
       "\n",
       "    .dataframe tbody tr th {\n",
       "        vertical-align: top;\n",
       "    }\n",
       "\n",
       "    .dataframe thead th {\n",
       "        text-align: right;\n",
       "    }\n",
       "</style>\n",
       "<table border=\"1\" class=\"dataframe\">\n",
       "  <thead>\n",
       "    <tr style=\"text-align: right;\">\n",
       "      <th></th>\n",
       "      <th>InvoiceNo</th>\n",
       "      <th>StockCode</th>\n",
       "      <th>Description</th>\n",
       "      <th>Quantity</th>\n",
       "      <th>InvoiceDate</th>\n",
       "      <th>UnitPrice</th>\n",
       "      <th>CustomerID</th>\n",
       "      <th>Country</th>\n",
       "    </tr>\n",
       "  </thead>\n",
       "  <tbody>\n",
       "    <tr>\n",
       "      <th>0</th>\n",
       "      <td>536365</td>\n",
       "      <td>85123A</td>\n",
       "      <td>WHITE HANGING HEART T-LIGHT HOLDER</td>\n",
       "      <td>6</td>\n",
       "      <td>2010-12-01 08:26:00</td>\n",
       "      <td>2.55</td>\n",
       "      <td>17850.0</td>\n",
       "      <td>United Kingdom</td>\n",
       "    </tr>\n",
       "    <tr>\n",
       "      <th>1</th>\n",
       "      <td>536365</td>\n",
       "      <td>71053</td>\n",
       "      <td>WHITE METAL LANTERN</td>\n",
       "      <td>6</td>\n",
       "      <td>2010-12-01 08:26:00</td>\n",
       "      <td>3.39</td>\n",
       "      <td>17850.0</td>\n",
       "      <td>United Kingdom</td>\n",
       "    </tr>\n",
       "    <tr>\n",
       "      <th>2</th>\n",
       "      <td>536365</td>\n",
       "      <td>84406B</td>\n",
       "      <td>CREAM CUPID HEARTS COAT HANGER</td>\n",
       "      <td>8</td>\n",
       "      <td>2010-12-01 08:26:00</td>\n",
       "      <td>2.75</td>\n",
       "      <td>17850.0</td>\n",
       "      <td>United Kingdom</td>\n",
       "    </tr>\n",
       "    <tr>\n",
       "      <th>3</th>\n",
       "      <td>536365</td>\n",
       "      <td>84029G</td>\n",
       "      <td>KNITTED UNION FLAG HOT WATER BOTTLE</td>\n",
       "      <td>6</td>\n",
       "      <td>2010-12-01 08:26:00</td>\n",
       "      <td>3.39</td>\n",
       "      <td>17850.0</td>\n",
       "      <td>United Kingdom</td>\n",
       "    </tr>\n",
       "    <tr>\n",
       "      <th>4</th>\n",
       "      <td>536365</td>\n",
       "      <td>84029E</td>\n",
       "      <td>RED WOOLLY HOTTIE WHITE HEART.</td>\n",
       "      <td>6</td>\n",
       "      <td>2010-12-01 08:26:00</td>\n",
       "      <td>3.39</td>\n",
       "      <td>17850.0</td>\n",
       "      <td>United Kingdom</td>\n",
       "    </tr>\n",
       "  </tbody>\n",
       "</table>\n",
       "</div>"
      ],
      "text/plain": [
       "  InvoiceNo StockCode                          Description  Quantity  \\\n",
       "0    536365    85123A   WHITE HANGING HEART T-LIGHT HOLDER         6   \n",
       "1    536365     71053                  WHITE METAL LANTERN         6   \n",
       "2    536365    84406B       CREAM CUPID HEARTS COAT HANGER         8   \n",
       "3    536365    84029G  KNITTED UNION FLAG HOT WATER BOTTLE         6   \n",
       "4    536365    84029E       RED WOOLLY HOTTIE WHITE HEART.         6   \n",
       "\n",
       "          InvoiceDate  UnitPrice  CustomerID         Country  \n",
       "0 2010-12-01 08:26:00       2.55     17850.0  United Kingdom  \n",
       "1 2010-12-01 08:26:00       3.39     17850.0  United Kingdom  \n",
       "2 2010-12-01 08:26:00       2.75     17850.0  United Kingdom  \n",
       "3 2010-12-01 08:26:00       3.39     17850.0  United Kingdom  \n",
       "4 2010-12-01 08:26:00       3.39     17850.0  United Kingdom  "
      ]
     },
     "metadata": {},
     "output_type": "display_data"
    },
    {
     "name": "stdout",
     "output_type": "stream",
     "text": [
      "\n",
      "Ringkasan Hasil Cleaning:\n",
      "Total Baris Sebelum Cleaning: 541909\n",
      "Total Baris Setelah Cleaning: 392692\n",
      "Jumlah Duplikasi Dihapus: 5192\n",
      "Missing Values Setelah Cleaning: 0\n"
     ]
    }
   ],
   "source": [
    "import pandas as pd\n",
    "from IPython.display import display\n",
    "\n",
    "data = pd.read_csv(r'UTSClustering.csv', encoding='ISO-8859-1')  \n",
    "\n",
    "print(\"Data Awal (5 baris pertama):\")\n",
    "display(data.head())\n",
    "\n",
    "# Mengatasi missing values terlebih dahulu\n",
    "data_cleaned = data.dropna(subset=['CustomerID'])\n",
    "\n",
    "# Mengisi missing value pada Description dengan 'Unknown'\n",
    "data_cleaned['Description'].fillna('Unknown', inplace=True)\n",
    "\n",
    "# Menghapus baris dengan Quantity dan UnitPrice negatif atau nol\n",
    "data_cleaned = data_cleaned[(data_cleaned['Quantity'] > 0) & (data_cleaned['UnitPrice'] > 0)]\n",
    "\n",
    "# Ubah InvoiceDate menjadi tipe datetime\n",
    "data_cleaned['InvoiceDate'] = pd.to_datetime(data_cleaned['InvoiceDate'], format='%m/%d/%Y %H:%M')\n",
    "\n",
    "# Cek duplikasi data\n",
    "duplicates = data_cleaned.duplicated().sum()\n",
    "# Hilangkan duplikasi jika ada\n",
    "data_cleaned.drop_duplicates(inplace=True)\n",
    "\n",
    "# Tampilkan hasil cleaning data\n",
    "print(\"\\nData Setelah Cleaning (5 baris pertama):\")\n",
    "display(data_cleaned.head())\n",
    "\n",
    "# Tampilkan ringkasan hasil cleaning\n",
    "summary_cleaning = {\n",
    "    \"Total Baris Sebelum Cleaning\": data.shape[0],\n",
    "    \"Total Baris Setelah Cleaning\": data_cleaned.shape[0],\n",
    "    \"Jumlah Duplikasi Dihapus\": duplicates,\n",
    "    \"Missing Values Setelah Cleaning\": data_cleaned.isnull().sum().sum()\n",
    "}\n",
    "\n",
    "print(\"\\nRingkasan Hasil Cleaning:\")\n",
    "for key, value in summary_cleaning.items():\n",
    "    print(f\"{key}: {value}\")\n",
    "\n"
   ]
  },
  {
   "cell_type": "markdown",
   "id": "e5a0da08",
   "metadata": {},
   "source": [
    "## Feature Selection dan Feature Engineering"
   ]
  },
  {
   "cell_type": "code",
   "execution_count": 2,
   "id": "1107be3d",
   "metadata": {},
   "outputs": [
    {
     "name": "stdout",
     "output_type": "stream",
     "text": [
      "Fitur Numerik yang Dipertahankan (Setelah Variance Threshold):\n",
      "['Quantity', 'UnitPrice']\n",
      "\n",
      "Skor Chi-square untuk Fitur Kategorikal:\n"
     ]
    },
    {
     "data": {
      "application/vnd.microsoft.datawrangler.viewer.v0+json": {
       "columns": [
        {
         "name": "index",
         "rawType": "int64",
         "type": "integer"
        },
        {
         "name": "Feature",
         "rawType": "object",
         "type": "string"
        },
        {
         "name": "Chi2_Score",
         "rawType": "float64",
         "type": "float"
        }
       ],
       "conversionMethod": "pd.DataFrame",
       "ref": "564d1f70-a8e9-402c-9a4d-bc2eca339083",
       "rows": [
        [
         "0",
         "Description",
         "124284.27707689555"
        ]
       ],
       "shape": {
        "columns": 2,
        "rows": 1
       }
      },
      "text/html": [
       "<div>\n",
       "<style scoped>\n",
       "    .dataframe tbody tr th:only-of-type {\n",
       "        vertical-align: middle;\n",
       "    }\n",
       "\n",
       "    .dataframe tbody tr th {\n",
       "        vertical-align: top;\n",
       "    }\n",
       "\n",
       "    .dataframe thead th {\n",
       "        text-align: right;\n",
       "    }\n",
       "</style>\n",
       "<table border=\"1\" class=\"dataframe\">\n",
       "  <thead>\n",
       "    <tr style=\"text-align: right;\">\n",
       "      <th></th>\n",
       "      <th>Feature</th>\n",
       "      <th>Chi2_Score</th>\n",
       "    </tr>\n",
       "  </thead>\n",
       "  <tbody>\n",
       "    <tr>\n",
       "      <th>0</th>\n",
       "      <td>Description</td>\n",
       "      <td>124284.277077</td>\n",
       "    </tr>\n",
       "  </tbody>\n",
       "</table>\n",
       "</div>"
      ],
      "text/plain": [
       "       Feature     Chi2_Score\n",
       "0  Description  124284.277077"
      ]
     },
     "metadata": {},
     "output_type": "display_data"
    }
   ],
   "source": [
    "from sklearn.feature_selection import VarianceThreshold, SelectKBest, chi2\n",
    "from sklearn.preprocessing import LabelEncoder\n",
    "\n",
    "# Copy data untuk seleksi fitur\n",
    "data_fs = data_cleaned.copy()\n",
    "\n",
    "# Pilih kolom numerik yang relevan untuk clustering\n",
    "numeric_features = ['Quantity', 'UnitPrice']\n",
    "\n",
    "# Seleksi fitur constant/quasi-constant dengan threshold rendah\n",
    "selector = VarianceThreshold(threshold=0.01)\n",
    "selector.fit(data_fs[numeric_features])\n",
    "features_kept = selector.get_feature_names_out(numeric_features)\n",
    "\n",
    "# Update daftar fitur numerik setelah threshold\n",
    "numeric_features = list(features_kept)\n",
    "\n",
    "# Encode kolom kategorikal untuk Chi-square test\n",
    "label_encoder = LabelEncoder()\n",
    "data_fs['Description_enc'] = label_encoder.fit_transform(data_fs['Description'])\n",
    "\n",
    "# Seleksi fitur menggunakan Chi-square test pada kolom kategorikal\n",
    "X_cat = data_fs[['Description_enc']]\n",
    "y_cat = data_fs['Country']\n",
    "\n",
    "chi_selector = SelectKBest(score_func=chi2, k='all')\n",
    "chi_selector.fit(X_cat, y_cat)\n",
    "chi_scores = chi_selector.scores_\n",
    "\n",
    "# Susun skor Chi-square ke dalam DataFrame\n",
    "chi_scores_df = pd.DataFrame({\n",
    "    'Feature': ['Description'],\n",
    "    'Chi2_Score': chi_scores\n",
    "}).sort_values(by='Chi2_Score', ascending=False)\n",
    "\n",
    "# Tampilkan hasil\n",
    "print(\"Fitur Numerik yang Dipertahankan (Setelah Variance Threshold):\")\n",
    "print(numeric_features)\n",
    "\n",
    "print(\"\\nSkor Chi-square untuk Fitur Kategorikal:\")\n",
    "display(chi_scores_df)\n"
   ]
  },
  {
   "cell_type": "markdown",
   "id": "702524ac",
   "metadata": {},
   "source": [
    "## Next step Feature Engineering"
   ]
  },
  {
   "cell_type": "code",
   "execution_count": 3,
   "id": "868ed0a2",
   "metadata": {},
   "outputs": [
    {
     "data": {
      "application/vnd.microsoft.datawrangler.viewer.v0+json": {
       "columns": [
        {
         "name": "index",
         "rawType": "int64",
         "type": "integer"
        },
        {
         "name": "Quantity_scaled",
         "rawType": "float64",
         "type": "float"
        },
        {
         "name": "UnitPrice_scaled",
         "rawType": "float64",
         "type": "float"
        },
        {
         "name": "DayOfWeek",
         "rawType": "int32",
         "type": "integer"
        },
        {
         "name": "Hour",
         "rawType": "int32",
         "type": "integer"
        },
        {
         "name": "TFIDF_0",
         "rawType": "float64",
         "type": "float"
        },
        {
         "name": "TFIDF_1",
         "rawType": "float64",
         "type": "float"
        },
        {
         "name": "TFIDF_2",
         "rawType": "float64",
         "type": "float"
        },
        {
         "name": "TFIDF_3",
         "rawType": "float64",
         "type": "float"
        },
        {
         "name": "TFIDF_4",
         "rawType": "float64",
         "type": "float"
        },
        {
         "name": "TFIDF_5",
         "rawType": "float64",
         "type": "float"
        },
        {
         "name": "TFIDF_6",
         "rawType": "float64",
         "type": "float"
        },
        {
         "name": "TFIDF_7",
         "rawType": "float64",
         "type": "float"
        },
        {
         "name": "TFIDF_8",
         "rawType": "float64",
         "type": "float"
        },
        {
         "name": "TFIDF_9",
         "rawType": "float64",
         "type": "float"
        },
        {
         "name": "TFIDF_10",
         "rawType": "float64",
         "type": "float"
        },
        {
         "name": "TFIDF_11",
         "rawType": "float64",
         "type": "float"
        },
        {
         "name": "TFIDF_12",
         "rawType": "float64",
         "type": "float"
        },
        {
         "name": "TFIDF_13",
         "rawType": "float64",
         "type": "float"
        },
        {
         "name": "TFIDF_14",
         "rawType": "float64",
         "type": "float"
        },
        {
         "name": "TFIDF_15",
         "rawType": "float64",
         "type": "float"
        },
        {
         "name": "TFIDF_16",
         "rawType": "float64",
         "type": "float"
        },
        {
         "name": "TFIDF_17",
         "rawType": "float64",
         "type": "float"
        },
        {
         "name": "TFIDF_18",
         "rawType": "float64",
         "type": "float"
        },
        {
         "name": "TFIDF_19",
         "rawType": "float64",
         "type": "float"
        },
        {
         "name": "TFIDF_20",
         "rawType": "float64",
         "type": "float"
        },
        {
         "name": "TFIDF_21",
         "rawType": "float64",
         "type": "float"
        },
        {
         "name": "TFIDF_22",
         "rawType": "float64",
         "type": "float"
        },
        {
         "name": "TFIDF_23",
         "rawType": "float64",
         "type": "float"
        },
        {
         "name": "TFIDF_24",
         "rawType": "float64",
         "type": "float"
        },
        {
         "name": "TFIDF_25",
         "rawType": "float64",
         "type": "float"
        },
        {
         "name": "TFIDF_26",
         "rawType": "float64",
         "type": "float"
        },
        {
         "name": "TFIDF_27",
         "rawType": "float64",
         "type": "float"
        },
        {
         "name": "TFIDF_28",
         "rawType": "float64",
         "type": "float"
        },
        {
         "name": "TFIDF_29",
         "rawType": "float64",
         "type": "float"
        },
        {
         "name": "TFIDF_30",
         "rawType": "float64",
         "type": "float"
        },
        {
         "name": "TFIDF_31",
         "rawType": "float64",
         "type": "float"
        },
        {
         "name": "TFIDF_32",
         "rawType": "float64",
         "type": "float"
        },
        {
         "name": "TFIDF_33",
         "rawType": "float64",
         "type": "float"
        },
        {
         "name": "TFIDF_34",
         "rawType": "float64",
         "type": "float"
        },
        {
         "name": "TFIDF_35",
         "rawType": "float64",
         "type": "float"
        },
        {
         "name": "TFIDF_36",
         "rawType": "float64",
         "type": "float"
        },
        {
         "name": "TFIDF_37",
         "rawType": "float64",
         "type": "float"
        },
        {
         "name": "TFIDF_38",
         "rawType": "float64",
         "type": "float"
        },
        {
         "name": "TFIDF_39",
         "rawType": "float64",
         "type": "float"
        },
        {
         "name": "TFIDF_40",
         "rawType": "float64",
         "type": "float"
        },
        {
         "name": "TFIDF_41",
         "rawType": "float64",
         "type": "float"
        },
        {
         "name": "TFIDF_42",
         "rawType": "float64",
         "type": "float"
        },
        {
         "name": "TFIDF_43",
         "rawType": "float64",
         "type": "float"
        },
        {
         "name": "TFIDF_44",
         "rawType": "float64",
         "type": "float"
        },
        {
         "name": "TFIDF_45",
         "rawType": "float64",
         "type": "float"
        },
        {
         "name": "TFIDF_46",
         "rawType": "float64",
         "type": "float"
        },
        {
         "name": "TFIDF_47",
         "rawType": "float64",
         "type": "float"
        },
        {
         "name": "TFIDF_48",
         "rawType": "float64",
         "type": "float"
        },
        {
         "name": "TFIDF_49",
         "rawType": "float64",
         "type": "float"
        },
        {
         "name": "TFIDF_50",
         "rawType": "float64",
         "type": "float"
        },
        {
         "name": "TFIDF_51",
         "rawType": "float64",
         "type": "float"
        },
        {
         "name": "TFIDF_52",
         "rawType": "float64",
         "type": "float"
        },
        {
         "name": "TFIDF_53",
         "rawType": "float64",
         "type": "float"
        },
        {
         "name": "TFIDF_54",
         "rawType": "float64",
         "type": "float"
        },
        {
         "name": "TFIDF_55",
         "rawType": "float64",
         "type": "float"
        },
        {
         "name": "TFIDF_56",
         "rawType": "float64",
         "type": "float"
        },
        {
         "name": "TFIDF_57",
         "rawType": "float64",
         "type": "float"
        },
        {
         "name": "TFIDF_58",
         "rawType": "float64",
         "type": "float"
        },
        {
         "name": "TFIDF_59",
         "rawType": "float64",
         "type": "float"
        },
        {
         "name": "TFIDF_60",
         "rawType": "float64",
         "type": "float"
        },
        {
         "name": "TFIDF_61",
         "rawType": "float64",
         "type": "float"
        },
        {
         "name": "TFIDF_62",
         "rawType": "float64",
         "type": "float"
        },
        {
         "name": "TFIDF_63",
         "rawType": "float64",
         "type": "float"
        },
        {
         "name": "TFIDF_64",
         "rawType": "float64",
         "type": "float"
        },
        {
         "name": "TFIDF_65",
         "rawType": "float64",
         "type": "float"
        },
        {
         "name": "TFIDF_66",
         "rawType": "float64",
         "type": "float"
        },
        {
         "name": "TFIDF_67",
         "rawType": "float64",
         "type": "float"
        },
        {
         "name": "TFIDF_68",
         "rawType": "float64",
         "type": "float"
        },
        {
         "name": "TFIDF_69",
         "rawType": "float64",
         "type": "float"
        },
        {
         "name": "TFIDF_70",
         "rawType": "float64",
         "type": "float"
        },
        {
         "name": "TFIDF_71",
         "rawType": "float64",
         "type": "float"
        },
        {
         "name": "TFIDF_72",
         "rawType": "float64",
         "type": "float"
        },
        {
         "name": "TFIDF_73",
         "rawType": "float64",
         "type": "float"
        },
        {
         "name": "TFIDF_74",
         "rawType": "float64",
         "type": "float"
        },
        {
         "name": "TFIDF_75",
         "rawType": "float64",
         "type": "float"
        },
        {
         "name": "TFIDF_76",
         "rawType": "float64",
         "type": "float"
        },
        {
         "name": "TFIDF_77",
         "rawType": "float64",
         "type": "float"
        },
        {
         "name": "TFIDF_78",
         "rawType": "float64",
         "type": "float"
        },
        {
         "name": "TFIDF_79",
         "rawType": "float64",
         "type": "float"
        },
        {
         "name": "TFIDF_80",
         "rawType": "float64",
         "type": "float"
        },
        {
         "name": "TFIDF_81",
         "rawType": "float64",
         "type": "float"
        },
        {
         "name": "TFIDF_82",
         "rawType": "float64",
         "type": "float"
        },
        {
         "name": "TFIDF_83",
         "rawType": "float64",
         "type": "float"
        },
        {
         "name": "TFIDF_84",
         "rawType": "float64",
         "type": "float"
        },
        {
         "name": "TFIDF_85",
         "rawType": "float64",
         "type": "float"
        },
        {
         "name": "TFIDF_86",
         "rawType": "float64",
         "type": "float"
        },
        {
         "name": "TFIDF_87",
         "rawType": "float64",
         "type": "float"
        },
        {
         "name": "TFIDF_88",
         "rawType": "float64",
         "type": "float"
        },
        {
         "name": "TFIDF_89",
         "rawType": "float64",
         "type": "float"
        },
        {
         "name": "TFIDF_90",
         "rawType": "float64",
         "type": "float"
        },
        {
         "name": "TFIDF_91",
         "rawType": "float64",
         "type": "float"
        },
        {
         "name": "TFIDF_92",
         "rawType": "float64",
         "type": "float"
        },
        {
         "name": "TFIDF_93",
         "rawType": "float64",
         "type": "float"
        },
        {
         "name": "TFIDF_94",
         "rawType": "float64",
         "type": "float"
        },
        {
         "name": "TFIDF_95",
         "rawType": "float64",
         "type": "float"
        },
        {
         "name": "TFIDF_96",
         "rawType": "float64",
         "type": "float"
        },
        {
         "name": "TFIDF_97",
         "rawType": "float64",
         "type": "float"
        },
        {
         "name": "TFIDF_98",
         "rawType": "float64",
         "type": "float"
        },
        {
         "name": "TFIDF_99",
         "rawType": "float64",
         "type": "float"
        }
       ],
       "conversionMethod": "pd.DataFrame",
       "ref": "3334f7e3-097b-47f5-8a37-31ee6306c239",
       "rows": [
        [
         "0",
         "-0.03944594885858077",
         "-0.007909155256784072",
         "3",
         "12",
         "0.0",
         "0.0",
         "0.0",
         "0.0",
         "0.5271246071535373",
         "0.0",
         "0.0",
         "0.0",
         "0.0",
         "0.0",
         "0.0",
         "0.0",
         "0.0",
         "0.0",
         "0.0",
         "0.0",
         "0.0",
         "0.0",
         "0.0",
         "0.0",
         "0.0",
         "0.0",
         "0.0",
         "0.0",
         "0.0",
         "0.0",
         "0.0",
         "0.0",
         "0.0",
         "0.0",
         "0.0",
         "0.0",
         "0.0",
         "0.0",
         "0.5533947123782084",
         "0.0",
         "0.0",
         "0.0",
         "0.0",
         "0.0",
         "0.0",
         "0.0",
         "0.0",
         "0.0",
         "0.0",
         "0.0",
         "0.0",
         "0.0",
         "0.0",
         "0.0",
         "0.0",
         "0.0",
         "0.0",
         "0.0",
         "0.0",
         "0.0",
         "0.0",
         "0.0",
         "0.0",
         "0.0",
         "0.0",
         "0.0",
         "0.0",
         "0.0",
         "0.0",
         "0.0",
         "0.0",
         "0.0",
         "0.0",
         "0.0",
         "0.0",
         "0.0",
         "0.0",
         "0.0",
         "0.0",
         "0.0",
         "0.0",
         "0.0",
         "0.0",
         "0.0",
         "0.0",
         "0.0",
         "0.0",
         "0.0",
         "0.0",
         "0.0",
         "0.0",
         "0.0",
         "0.0",
         "0.0",
         "0.0",
         "0.0",
         "0.4261188043429466",
         "0.0",
         "0.0",
         "0.0",
         "0.48406270815918756",
         "0.0",
         "0.0",
         "0.0"
        ],
        [
         "1",
         "-0.061607521974697585",
         "0.08201159504614138",
         "0",
         "13",
         "0.0",
         "0.0",
         "0.0",
         "0.0",
         "0.0",
         "0.0",
         "0.0",
         "0.0",
         "0.0",
         "0.0",
         "0.0",
         "0.0",
         "0.0",
         "0.0",
         "0.0",
         "0.0",
         "0.0",
         "0.0",
         "0.0",
         "0.6031512712006308",
         "0.0",
         "0.0",
         "0.0",
         "0.0",
         "0.0",
         "0.0",
         "0.0",
         "0.0",
         "0.0",
         "0.0",
         "0.0",
         "0.0",
         "0.0",
         "0.0",
         "0.0",
         "0.0",
         "0.0",
         "0.0",
         "0.0",
         "0.0",
         "0.0",
         "0.0",
         "0.0",
         "0.0",
         "0.0",
         "0.0",
         "0.0",
         "0.0",
         "0.0",
         "0.0",
         "0.0",
         "0.0",
         "0.0",
         "0.0",
         "0.0",
         "0.0",
         "0.0",
         "0.0",
         "0.0",
         "0.0",
         "0.0",
         "0.0",
         "0.0",
         "0.0",
         "0.0",
         "0.0",
         "0.0",
         "0.0",
         "0.0",
         "0.0",
         "0.0",
         "0.0",
         "0.0",
         "0.4402057399075433",
         "0.0",
         "0.3631421153391724",
         "0.0",
         "0.0",
         "0.0",
         "0.0",
         "0.0",
         "0.0",
         "0.0",
         "0.0",
         "0.557274846613865",
         "0.0",
         "0.0",
         "0.0",
         "0.0",
         "0.0",
         "0.0",
         "0.0",
         "0.0",
         "0.0",
         "0.0",
         "0.0",
         "0.0",
         "0.0",
         "0.0",
         "0.0"
        ],
        [
         "2",
         "0.060281130163944895",
         "-0.08434179301427071",
         "0",
         "12",
         "0.0",
         "0.0",
         "0.0",
         "0.0",
         "0.0",
         "0.0",
         "0.0",
         "0.0",
         "0.0",
         "0.0",
         "0.0",
         "0.0",
         "0.0",
         "0.0",
         "0.0",
         "0.0",
         "0.0",
         "0.0",
         "0.0",
         "0.0",
         "0.0",
         "0.0",
         "0.0",
         "0.0",
         "0.0",
         "0.0",
         "0.0",
         "0.0",
         "0.0",
         "0.0",
         "0.0",
         "0.0",
         "0.0",
         "0.0",
         "0.0",
         "0.0",
         "0.0",
         "0.0",
         "0.0",
         "0.0",
         "0.0",
         "0.0",
         "0.0",
         "0.0",
         "0.0",
         "0.0",
         "0.0",
         "0.5499864426871928",
         "0.0",
         "0.0",
         "0.0",
         "0.0",
         "0.0",
         "0.0",
         "0.0",
         "0.0",
         "0.0",
         "0.0",
         "0.0",
         "0.0",
         "0.0",
         "0.0",
         "0.0",
         "0.0",
         "0.0",
         "0.0",
         "0.0",
         "0.5630221440701764",
         "0.0",
         "0.0",
         "0.5177571592540906",
         "0.0",
         "0.0",
         "0.0",
         "0.0",
         "0.3353334194321277",
         "0.0",
         "0.0",
         "0.0",
         "0.0",
         "0.0",
         "0.0",
         "0.0",
         "0.0",
         "0.0",
         "0.0",
         "0.0",
         "0.0",
         "0.0",
         "0.0",
         "0.0",
         "0.0",
         "0.0",
         "0.0",
         "0.0",
         "0.0",
         "0.0",
         "0.0",
         "0.0",
         "0.0"
        ],
        [
         "3",
         "0.060281130163944895",
         "-0.1158140556202946",
         "0",
         "12",
         "0.0",
         "0.0",
         "0.48909308065315527",
         "0.0",
         "0.0",
         "0.0",
         "0.0",
         "0.0",
         "0.0",
         "0.0",
         "0.0",
         "0.0",
         "0.0",
         "0.0",
         "0.0",
         "0.0",
         "0.3748865868610271",
         "0.0",
         "0.42629722367189765",
         "0.0",
         "0.0",
         "0.0",
         "0.0",
         "0.0",
         "0.0",
         "0.0",
         "0.0",
         "0.0",
         "0.0",
         "0.0",
         "0.0",
         "0.0",
         "0.0",
         "0.0",
         "0.0",
         "0.0",
         "0.0",
         "0.0",
         "0.0",
         "0.0",
         "0.0",
         "0.0",
         "0.0",
         "0.0",
         "0.0",
         "0.0",
         "0.0",
         "0.0",
         "0.0",
         "0.0",
         "0.0",
         "0.0",
         "0.0",
         "0.0",
         "0.0",
         "0.0",
         "0.0",
         "0.0",
         "0.0",
         "0.0",
         "0.0",
         "0.0",
         "0.2914001142120653",
         "0.4130099086936827",
         "0.0",
         "0.0",
         "0.0",
         "0.0",
         "0.0",
         "0.0",
         "0.0",
         "0.0",
         "0.0",
         "0.0",
         "0.0",
         "0.0",
         "0.0",
         "0.0",
         "0.0",
         "0.0",
         "0.42781710028534253",
         "0.0",
         "0.0",
         "0.0",
         "0.0",
         "0.0",
         "0.0",
         "0.0",
         "0.0",
         "0.0",
         "0.0",
         "0.0",
         "0.0",
         "0.0",
         "0.0",
         "0.0",
         "0.0",
         "0.0",
         "0.0",
         "0.0"
        ],
        [
         "4",
         "-0.006203589184405549",
         "-0.06635764295368562",
         "3",
         "14",
         "0.0",
         "0.0",
         "0.0",
         "0.0",
         "0.0",
         "0.0",
         "0.0",
         "0.0",
         "0.0",
         "0.0",
         "0.0",
         "0.0",
         "0.0",
         "0.0",
         "0.0",
         "0.0",
         "0.0",
         "0.0",
         "0.0",
         "0.0",
         "0.0",
         "0.0",
         "0.0",
         "0.0",
         "0.0",
         "0.0",
         "0.0",
         "0.0",
         "0.0",
         "0.0",
         "0.0",
         "0.0",
         "0.0",
         "0.0",
         "0.0",
         "0.0",
         "0.0",
         "0.0",
         "0.5900810079979232",
         "0.0",
         "0.0",
         "0.0",
         "0.0",
         "0.0",
         "0.0",
         "0.0",
         "0.0",
         "0.0",
         "0.0",
         "0.0",
         "0.0",
         "0.0",
         "0.0",
         "0.0",
         "0.0",
         "0.0",
         "0.0",
         "0.0",
         "0.0",
         "0.0",
         "0.0",
         "0.0",
         "0.0",
         "0.0",
         "0.0",
         "0.0",
         "0.0",
         "0.0",
         "0.0",
         "0.0",
         "0.0",
         "0.0",
         "0.5942794878270884",
         "0.0",
         "0.0",
         "0.0",
         "0.0",
         "0.0",
         "0.0",
         "0.0",
         "0.0",
         "0.0",
         "0.0",
         "0.0",
         "0.5464762523185509",
         "0.0",
         "0.0",
         "0.0",
         "0.0",
         "0.0",
         "0.0",
         "0.0",
         "0.0",
         "0.0",
         "0.0",
         "0.0",
         "0.0",
         "0.0",
         "0.0",
         "0.0"
        ]
       ],
       "shape": {
        "columns": 104,
        "rows": 5
       }
      },
      "text/html": [
       "<div>\n",
       "<style scoped>\n",
       "    .dataframe tbody tr th:only-of-type {\n",
       "        vertical-align: middle;\n",
       "    }\n",
       "\n",
       "    .dataframe tbody tr th {\n",
       "        vertical-align: top;\n",
       "    }\n",
       "\n",
       "    .dataframe thead th {\n",
       "        text-align: right;\n",
       "    }\n",
       "</style>\n",
       "<table border=\"1\" class=\"dataframe\">\n",
       "  <thead>\n",
       "    <tr style=\"text-align: right;\">\n",
       "      <th></th>\n",
       "      <th>Quantity_scaled</th>\n",
       "      <th>UnitPrice_scaled</th>\n",
       "      <th>DayOfWeek</th>\n",
       "      <th>Hour</th>\n",
       "      <th>TFIDF_0</th>\n",
       "      <th>TFIDF_1</th>\n",
       "      <th>TFIDF_2</th>\n",
       "      <th>TFIDF_3</th>\n",
       "      <th>TFIDF_4</th>\n",
       "      <th>TFIDF_5</th>\n",
       "      <th>...</th>\n",
       "      <th>TFIDF_90</th>\n",
       "      <th>TFIDF_91</th>\n",
       "      <th>TFIDF_92</th>\n",
       "      <th>TFIDF_93</th>\n",
       "      <th>TFIDF_94</th>\n",
       "      <th>TFIDF_95</th>\n",
       "      <th>TFIDF_96</th>\n",
       "      <th>TFIDF_97</th>\n",
       "      <th>TFIDF_98</th>\n",
       "      <th>TFIDF_99</th>\n",
       "    </tr>\n",
       "  </thead>\n",
       "  <tbody>\n",
       "    <tr>\n",
       "      <th>0</th>\n",
       "      <td>-0.039446</td>\n",
       "      <td>-0.007909</td>\n",
       "      <td>3</td>\n",
       "      <td>12</td>\n",
       "      <td>0.0</td>\n",
       "      <td>0.0</td>\n",
       "      <td>0.000000</td>\n",
       "      <td>0.0</td>\n",
       "      <td>0.527125</td>\n",
       "      <td>0.0</td>\n",
       "      <td>...</td>\n",
       "      <td>0.0</td>\n",
       "      <td>0.0</td>\n",
       "      <td>0.426119</td>\n",
       "      <td>0.0</td>\n",
       "      <td>0.0</td>\n",
       "      <td>0.0</td>\n",
       "      <td>0.484063</td>\n",
       "      <td>0.0</td>\n",
       "      <td>0.0</td>\n",
       "      <td>0.0</td>\n",
       "    </tr>\n",
       "    <tr>\n",
       "      <th>1</th>\n",
       "      <td>-0.061608</td>\n",
       "      <td>0.082012</td>\n",
       "      <td>0</td>\n",
       "      <td>13</td>\n",
       "      <td>0.0</td>\n",
       "      <td>0.0</td>\n",
       "      <td>0.000000</td>\n",
       "      <td>0.0</td>\n",
       "      <td>0.000000</td>\n",
       "      <td>0.0</td>\n",
       "      <td>...</td>\n",
       "      <td>0.0</td>\n",
       "      <td>0.0</td>\n",
       "      <td>0.000000</td>\n",
       "      <td>0.0</td>\n",
       "      <td>0.0</td>\n",
       "      <td>0.0</td>\n",
       "      <td>0.000000</td>\n",
       "      <td>0.0</td>\n",
       "      <td>0.0</td>\n",
       "      <td>0.0</td>\n",
       "    </tr>\n",
       "    <tr>\n",
       "      <th>2</th>\n",
       "      <td>0.060281</td>\n",
       "      <td>-0.084342</td>\n",
       "      <td>0</td>\n",
       "      <td>12</td>\n",
       "      <td>0.0</td>\n",
       "      <td>0.0</td>\n",
       "      <td>0.000000</td>\n",
       "      <td>0.0</td>\n",
       "      <td>0.000000</td>\n",
       "      <td>0.0</td>\n",
       "      <td>...</td>\n",
       "      <td>0.0</td>\n",
       "      <td>0.0</td>\n",
       "      <td>0.000000</td>\n",
       "      <td>0.0</td>\n",
       "      <td>0.0</td>\n",
       "      <td>0.0</td>\n",
       "      <td>0.000000</td>\n",
       "      <td>0.0</td>\n",
       "      <td>0.0</td>\n",
       "      <td>0.0</td>\n",
       "    </tr>\n",
       "    <tr>\n",
       "      <th>3</th>\n",
       "      <td>0.060281</td>\n",
       "      <td>-0.115814</td>\n",
       "      <td>0</td>\n",
       "      <td>12</td>\n",
       "      <td>0.0</td>\n",
       "      <td>0.0</td>\n",
       "      <td>0.489093</td>\n",
       "      <td>0.0</td>\n",
       "      <td>0.000000</td>\n",
       "      <td>0.0</td>\n",
       "      <td>...</td>\n",
       "      <td>0.0</td>\n",
       "      <td>0.0</td>\n",
       "      <td>0.000000</td>\n",
       "      <td>0.0</td>\n",
       "      <td>0.0</td>\n",
       "      <td>0.0</td>\n",
       "      <td>0.000000</td>\n",
       "      <td>0.0</td>\n",
       "      <td>0.0</td>\n",
       "      <td>0.0</td>\n",
       "    </tr>\n",
       "    <tr>\n",
       "      <th>4</th>\n",
       "      <td>-0.006204</td>\n",
       "      <td>-0.066358</td>\n",
       "      <td>3</td>\n",
       "      <td>14</td>\n",
       "      <td>0.0</td>\n",
       "      <td>0.0</td>\n",
       "      <td>0.000000</td>\n",
       "      <td>0.0</td>\n",
       "      <td>0.000000</td>\n",
       "      <td>0.0</td>\n",
       "      <td>...</td>\n",
       "      <td>0.0</td>\n",
       "      <td>0.0</td>\n",
       "      <td>0.000000</td>\n",
       "      <td>0.0</td>\n",
       "      <td>0.0</td>\n",
       "      <td>0.0</td>\n",
       "      <td>0.000000</td>\n",
       "      <td>0.0</td>\n",
       "      <td>0.0</td>\n",
       "      <td>0.0</td>\n",
       "    </tr>\n",
       "  </tbody>\n",
       "</table>\n",
       "<p>5 rows × 104 columns</p>\n",
       "</div>"
      ],
      "text/plain": [
       "   Quantity_scaled  UnitPrice_scaled  DayOfWeek  Hour  TFIDF_0  TFIDF_1  \\\n",
       "0        -0.039446         -0.007909          3    12      0.0      0.0   \n",
       "1        -0.061608          0.082012          0    13      0.0      0.0   \n",
       "2         0.060281         -0.084342          0    12      0.0      0.0   \n",
       "3         0.060281         -0.115814          0    12      0.0      0.0   \n",
       "4        -0.006204         -0.066358          3    14      0.0      0.0   \n",
       "\n",
       "    TFIDF_2  TFIDF_3   TFIDF_4  TFIDF_5  ...  TFIDF_90  TFIDF_91  TFIDF_92  \\\n",
       "0  0.000000      0.0  0.527125      0.0  ...       0.0       0.0  0.426119   \n",
       "1  0.000000      0.0  0.000000      0.0  ...       0.0       0.0  0.000000   \n",
       "2  0.000000      0.0  0.000000      0.0  ...       0.0       0.0  0.000000   \n",
       "3  0.489093      0.0  0.000000      0.0  ...       0.0       0.0  0.000000   \n",
       "4  0.000000      0.0  0.000000      0.0  ...       0.0       0.0  0.000000   \n",
       "\n",
       "   TFIDF_93  TFIDF_94  TFIDF_95  TFIDF_96  TFIDF_97  TFIDF_98  TFIDF_99  \n",
       "0       0.0       0.0       0.0  0.484063       0.0       0.0       0.0  \n",
       "1       0.0       0.0       0.0  0.000000       0.0       0.0       0.0  \n",
       "2       0.0       0.0       0.0  0.000000       0.0       0.0       0.0  \n",
       "3       0.0       0.0       0.0  0.000000       0.0       0.0       0.0  \n",
       "4       0.0       0.0       0.0  0.000000       0.0       0.0       0.0  \n",
       "\n",
       "[5 rows x 104 columns]"
      ]
     },
     "metadata": {},
     "output_type": "display_data"
    },
    {
     "data": {
      "text/plain": [
       "(10000, 104)"
      ]
     },
     "execution_count": 3,
     "metadata": {},
     "output_type": "execute_result"
    }
   ],
   "source": [
    "from sklearn.preprocessing import StandardScaler\n",
    "from sklearn.feature_extraction.text import TfidfVectorizer\n",
    "\n",
    "# Ekstraksi fitur tambahan dari InvoiceDate\n",
    "data_fe = data_cleaned.copy()\n",
    "data_fe['DayOfWeek'] = data_fe['InvoiceDate'].dt.dayofweek\n",
    "data_fe['Hour'] = data_fe['InvoiceDate'].dt.hour\n",
    "\n",
    "# Normalisasi fitur numerik\n",
    "scaler = StandardScaler()\n",
    "data_fe[['Quantity_scaled', 'UnitPrice_scaled']] = scaler.fit_transform(data_fe[['Quantity', 'UnitPrice']])\n",
    "\n",
    "# Sampling data sebelum TF-IDF untuk efisiensi memori\n",
    "data_sample_fe = data_fe.sample(n=10000, random_state=42).reset_index(drop=True)\n",
    "\n",
    "# TF-IDF pada data yang telah disampling\n",
    "tfidf = TfidfVectorizer(max_features=100)\n",
    "description_tfidf_sample = tfidf.fit_transform(data_sample_fe['Description'])\n",
    "\n",
    "# Konversi hasil TF-IDF ke DataFrame\n",
    "tfidf_sample_df = pd.DataFrame(description_tfidf_sample.toarray(), columns=[f'TFIDF_{i}' for i in range(description_tfidf_sample.shape[1])])\n",
    "\n",
    "# Gabungkan semua fitur\n",
    "data_final_sample = pd.concat([\n",
    "    data_sample_fe[['Quantity_scaled', 'UnitPrice_scaled', 'DayOfWeek', 'Hour']].reset_index(drop=True),\n",
    "    tfidf_sample_df.reset_index(drop=True)\n",
    "], axis=1)\n",
    "\n",
    "# Tampilkan hasil akhir feature engineering dengan data sampel\n",
    "display(data_final_sample.head())\n",
    "\n",
    "data_final_sample.shape\n"
   ]
  },
  {
   "cell_type": "code",
   "execution_count": 4,
   "id": "852c8b51",
   "metadata": {},
   "outputs": [
    {
     "name": "stderr",
     "output_type": "stream",
     "text": [
      "c:\\Users\\User\\AppData\\Local\\Programs\\Python\\Python311\\Lib\\site-packages\\sklearn\\manifold\\_spectral_embedding.py:301: UserWarning: Graph is not fully connected, spectral embedding may not work as expected.\n",
      "  warnings.warn(\n"
     ]
    },
    {
     "data": {
      "application/vnd.microsoft.datawrangler.viewer.v0+json": {
       "columns": [
        {
         "name": "index",
         "rawType": "int64",
         "type": "integer"
        },
        {
         "name": "Model",
         "rawType": "object",
         "type": "string"
        },
        {
         "name": "Silhouette Score",
         "rawType": "float64",
         "type": "float"
        },
        {
         "name": "Davies-Bouldin Index",
         "rawType": "float64",
         "type": "float"
        },
        {
         "name": "Calinski-Harabasz Score",
         "rawType": "float64",
         "type": "float"
        }
       ],
       "conversionMethod": "pd.DataFrame",
       "ref": "7af713c5-ac79-4f0d-80d7-466a14755f6e",
       "rows": [
        [
         "0",
         "KMeans",
         "0.24560425540693595",
         "1.2511742417687337",
         "4613.833429947131"
        ],
        [
         "1",
         "AgglomerativeClustering",
         "0.24446154281040908",
         "1.133667564177076",
         "4816.25405203252"
        ],
        [
         "2",
         "DBSCAN",
         "-0.5838002756804183",
         "1.4146810702606467",
         "10.597295404788774"
        ],
        [
         "3",
         "GaussianMixture",
         "-0.020436621999768687",
         "18.666221376461333",
         "15.28126571247955"
        ],
        [
         "4",
         "SpectralClustering",
         "0.24243737293124196",
         "1.0061372020473216",
         "3984.787200503117"
        ]
       ],
       "shape": {
        "columns": 4,
        "rows": 5
       }
      },
      "text/html": [
       "<div>\n",
       "<style scoped>\n",
       "    .dataframe tbody tr th:only-of-type {\n",
       "        vertical-align: middle;\n",
       "    }\n",
       "\n",
       "    .dataframe tbody tr th {\n",
       "        vertical-align: top;\n",
       "    }\n",
       "\n",
       "    .dataframe thead th {\n",
       "        text-align: right;\n",
       "    }\n",
       "</style>\n",
       "<table border=\"1\" class=\"dataframe\">\n",
       "  <thead>\n",
       "    <tr style=\"text-align: right;\">\n",
       "      <th></th>\n",
       "      <th>Model</th>\n",
       "      <th>Silhouette Score</th>\n",
       "      <th>Davies-Bouldin Index</th>\n",
       "      <th>Calinski-Harabasz Score</th>\n",
       "    </tr>\n",
       "  </thead>\n",
       "  <tbody>\n",
       "    <tr>\n",
       "      <th>0</th>\n",
       "      <td>KMeans</td>\n",
       "      <td>0.245604</td>\n",
       "      <td>1.251174</td>\n",
       "      <td>4613.833430</td>\n",
       "    </tr>\n",
       "    <tr>\n",
       "      <th>1</th>\n",
       "      <td>AgglomerativeClustering</td>\n",
       "      <td>0.244462</td>\n",
       "      <td>1.133668</td>\n",
       "      <td>4816.254052</td>\n",
       "    </tr>\n",
       "    <tr>\n",
       "      <th>2</th>\n",
       "      <td>DBSCAN</td>\n",
       "      <td>-0.583800</td>\n",
       "      <td>1.414681</td>\n",
       "      <td>10.597295</td>\n",
       "    </tr>\n",
       "    <tr>\n",
       "      <th>3</th>\n",
       "      <td>GaussianMixture</td>\n",
       "      <td>-0.020437</td>\n",
       "      <td>18.666221</td>\n",
       "      <td>15.281266</td>\n",
       "    </tr>\n",
       "    <tr>\n",
       "      <th>4</th>\n",
       "      <td>SpectralClustering</td>\n",
       "      <td>0.242437</td>\n",
       "      <td>1.006137</td>\n",
       "      <td>3984.787201</td>\n",
       "    </tr>\n",
       "  </tbody>\n",
       "</table>\n",
       "</div>"
      ],
      "text/plain": [
       "                     Model  Silhouette Score  Davies-Bouldin Index  \\\n",
       "0                   KMeans          0.245604              1.251174   \n",
       "1  AgglomerativeClustering          0.244462              1.133668   \n",
       "2                   DBSCAN         -0.583800              1.414681   \n",
       "3          GaussianMixture         -0.020437             18.666221   \n",
       "4       SpectralClustering          0.242437              1.006137   \n",
       "\n",
       "   Calinski-Harabasz Score  \n",
       "0              4613.833430  \n",
       "1              4816.254052  \n",
       "2                10.597295  \n",
       "3                15.281266  \n",
       "4              3984.787201  "
      ]
     },
     "metadata": {},
     "output_type": "display_data"
    },
    {
     "name": "stderr",
     "output_type": "stream",
     "text": [
      "C:\\Users\\User\\AppData\\Local\\Temp\\ipykernel_14192\\1776564268.py:46: UserWarning: To output multiple subplots, the figure containing the passed axes is being cleared.\n",
      "  results_df.set_index('Model').plot(kind='bar', ax=ax, subplots=True, layout=(1,3), legend=False)\n"
     ]
    },
    {
     "data": {
      "image/png": "[encoded data removed]",
      "text/plain": [
       "<Figure size 1200x600 with 3 Axes>"
      ]
     },
     "metadata": {},
     "output_type": "display_data"
    }
   ],
   "source": [
    "from sklearn.cluster import KMeans, AgglomerativeClustering, DBSCAN, SpectralClustering\n",
    "from sklearn.mixture import GaussianMixture\n",
    "from sklearn.metrics import silhouette_score, davies_bouldin_score, calinski_harabasz_score\n",
    "import matplotlib.pyplot as plt\n",
    "import seaborn as sns\n",
    "\n",
    "# Persiapan data untuk clustering\n",
    "X = data_final_sample.values\n",
    "\n",
    "# Menyiapkan model clustering\n",
    "models = {\n",
    "    'KMeans': KMeans(n_clusters=5, random_state=42),\n",
    "    'AgglomerativeClustering': AgglomerativeClustering(n_clusters=5),\n",
    "    'DBSCAN': DBSCAN(eps=0.5, min_samples=5),\n",
    "    'GaussianMixture': GaussianMixture(n_components=5, random_state=42),\n",
    "    'SpectralClustering': SpectralClustering(n_clusters=5, random_state=42, affinity='nearest_neighbors')\n",
    "}\n",
    "\n",
    "# Menyimpan hasil evaluasi\n",
    "results = []\n",
    "\n",
    "# Fit dan evaluasi masing-masing model\n",
    "for name, model in models.items():\n",
    "    if name == 'GaussianMixture':\n",
    "        labels = model.fit_predict(X)\n",
    "    else:\n",
    "        labels = model.fit(X).labels_\n",
    "    \n",
    "    silhouette = silhouette_score(X, labels) if len(set(labels)) > 1 else -1\n",
    "    db_index = davies_bouldin_score(X, labels) if len(set(labels)) > 1 else -1\n",
    "    ch_score = calinski_harabasz_score(X, labels) if len(set(labels)) > 1 else -1\n",
    "\n",
    "    results.append({\n",
    "        'Model': name,\n",
    "        'Silhouette Score': silhouette,\n",
    "        'Davies-Bouldin Index': db_index,\n",
    "        'Calinski-Harabasz Score': ch_score\n",
    "    })\n",
    "\n",
    "# Menampilkan hasil evaluasi clustering\n",
    "results_df = pd.DataFrame(results)\n",
    "display(results_df)\n",
    "\n",
    "# Visualisasi hasil evaluasi clustering\n",
    "fig, ax = plt.subplots(figsize=(12, 6))\n",
    "results_df.set_index('Model').plot(kind='bar', ax=ax, subplots=True, layout=(1,3), legend=False)\n",
    "plt.tight_layout()\n",
    "plt.show()\n"
   ]
  },
  {
   "cell_type": "markdown",
   "id": "ba4392a2",
   "metadata": {},
   "source": [
    "##  clustering and Evaluation"
   ]
  },
  {
   "cell_type": "code",
   "execution_count": 6,
   "id": "d0d29612",
   "metadata": {},
   "outputs": [
    {
     "data": {
      "image/png": "[encoded data removed]",
      "text/plain": [
       "<Figure size 800x600 with 1 Axes>"
      ]
     },
     "metadata": {},
     "output_type": "display_data"
    },
    {
     "data": {
      "image/png": "[encoded data removed]",
      "text/plain": [
       "<Figure size 1000x700 with 1 Axes>"
      ]
     },
     "metadata": {},
     "output_type": "display_data"
    },
    {
     "data": {
      "image/png": "[encoded data removed]",
      "text/plain": [
       "<Figure size 800x600 with 1 Axes>"
      ]
     },
     "metadata": {},
     "output_type": "display_data"
    }
   ],
   "source": [
    "from sklearn.decomposition import PCA\n",
    "from sklearn.metrics import silhouette_samples\n",
    "from scipy.cluster.hierarchy import linkage, dendrogram\n",
    "import numpy as np\n",
    "\n",
    "# Pilih model terbaik berdasarkan Silhouette Score (asumsi KMeans untuk contoh visualisasi)\n",
    "best_model = KMeans(n_clusters=5, random_state=42)\n",
    "labels = best_model.fit_predict(X)\n",
    "\n",
    "# 1. Silhouette Plot\n",
    "silhouette_vals = silhouette_samples(X, labels)\n",
    "y_lower, y_upper = 0, 0\n",
    "yticks = []\n",
    "plt.figure(figsize=(8, 6))\n",
    "for i, cluster in enumerate(np.unique(labels)):\n",
    "    cluster_silhouette_vals = silhouette_vals[labels == cluster]\n",
    "    cluster_silhouette_vals.sort()\n",
    "    y_upper += len(cluster_silhouette_vals)\n",
    "    plt.barh(range(y_lower, y_upper), cluster_silhouette_vals, edgecolor='none', height=1)\n",
    "    yticks.append((y_lower + y_upper) / 2)\n",
    "    y_lower += len(cluster_silhouette_vals)\n",
    "\n",
    "plt.axvline(np.mean(silhouette_vals), color=\"red\", linestyle=\"--\")\n",
    "plt.xlabel('Silhouette Coefficient')\n",
    "plt.ylabel('Cluster')\n",
    "plt.yticks(yticks, [f'Cluster {i}' for i in np.unique(labels)])\n",
    "plt.title('Silhouette Plot')\n",
    "plt.show()\n",
    "\n",
    "# 2. Dendrogram (Agglomerative Clustering)\n",
    "linked = linkage(X[:500], method='ward')  # sample kecil karena dendrogram sangat intensif memori\n",
    "plt.figure(figsize=(10, 7))\n",
    "dendrogram(linked, truncate_mode='lastp', p=30, leaf_rotation=90., leaf_font_size=12.)\n",
    "plt.title('Dendrogram (Agglomerative Clustering)')\n",
    "plt.xlabel('Cluster Size')\n",
    "plt.ylabel('Distance')\n",
    "plt.show()\n",
    "\n",
    "# 3. Scatter Plot PCA (reduksi 2D untuk visualisasi cluster)\n",
    "pca = PCA(n_components=2)\n",
    "X_pca = pca.fit_transform(X)\n",
    "plt.figure(figsize=(8, 6))\n",
    "sns.scatterplot(x=X_pca[:,0], y=X_pca[:,1], hue=labels, palette='viridis', s=50)\n",
    "plt.title('Scatter Plot PCA (2D)')\n",
    "plt.xlabel('PCA Component 1')\n",
    "plt.ylabel('PCA Component 2')\n",
    "plt.legend(title='Cluster')\n",
    "plt.show()\n"
   ]
  },
  {
   "cell_type": "code",
   "execution_count": null,
   "id": "29eeb275",
   "metadata": {},
   "outputs": [],
   "source": []
  }
 ],
 "metadata": {
  "kernelspec": {
   "display_name": "Python 3",
   "language": "python",
   "name": "python3"
  },
  "language_info": {
   "codemirror_mode": {
    "name": "ipython",
    "version": 3
   },
   "file_extension": ".py",
   "mimetype": "text/x-python",
   "name": "python",
   "nbconvert_exporter": "python",
   "pygments_lexer": "ipython3",
   "version": "3.11.9"
  }
 },
 "nbformat": 4,
 "nbformat_minor": 5
}
